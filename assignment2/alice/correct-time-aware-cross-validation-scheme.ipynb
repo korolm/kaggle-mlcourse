{
  "cells": [
    {
      "cell_type": "code",
      "execution_count": 1,
      "metadata": {
        "_cell_guid": "23e2c9dd-6380-4c22-84c6-8fefcbb11e42",
        "_uuid": "3700778c58aa5c29f596dbcd2db246fc7c3d4e26",
        "pycharm": {}
      },
      "outputs": [],
      "source": [
        "# Import libraries and set desired options\n",
        "import numpy as np\n",
        "import pandas as pd\n",
        "from scipy.sparse import hstack\n",
        "from sklearn.feature_extraction.text import CountVectorizer\n",
        "from sklearn.model_selection import TimeSeriesSplit, cross_val_score, GridSearchCV\n",
        "from sklearn.metrics import roc_auc_score\n",
        "from sklearn.linear_model import LogisticRegression"
      ]
    },
    {
      "cell_type": "code",
      "execution_count": 2,
      "metadata": {
        "_cell_guid": "ecbf2042-fb1a-45f0-8146-946af9e96581",
        "_uuid": "374a63e1b365554ef958e4323d043368d04254f4",
        "pycharm": {}
      },
      "outputs": [],
      "source": [
        "# A helper function for writing predictions to a file\n",
        "def write_to_submission_file(predicted_labels, out_file,\n",
        "                             target\u003d\u0027target\u0027, index_label\u003d\"session_id\"):\n",
        "    predicted_df \u003d pd.DataFrame(predicted_labels,\n",
        "                                index \u003d np.arange(1, predicted_labels.shape[0] + 1),\n",
        "                                columns\u003d[target])\n",
        "    predicted_df.to_csv(out_file, index_label\u003dindex_label)"
      ]
    },
    {
      "cell_type": "markdown",
      "metadata": {
        "_cell_guid": "19017385-2dee-48d6-aab8-88738aff0219",
        "_uuid": "b6223fe90b6d5a8eb3eb57e1e0c85c0427794b74",
        "pycharm": {}
      },
      "source": [
        "**Read training and test sets, sort train set by session start time.**"
      ]
    },
    {
      "cell_type": "code",
      "execution_count": 3,
      "metadata": {
        "_cell_guid": "6f004297-26fa-4cab-ab2e-8b02c98d6db6",
        "_uuid": "6289ed79d9fa6842e471768a491c1b237a8115a9",
        "pycharm": {}
      },
      "outputs": [
        {
          "traceback": [
            "\u001b[1;31m---------------------------------------------------------------------------\u001b[0m",
            "\u001b[1;31mFileNotFoundError\u001b[0m                         Traceback (most recent call last)",
            "\u001b[1;32m\u003cipython-input-3-67921ff0f79b\u003e\u001b[0m in \u001b[0;36m\u003cmodule\u003e\u001b[1;34m\u001b[0m\n\u001b[0;32m      1\u001b[0m train_df \u003d pd.read_csv(\u0027data/train_sessions.csv\u0027,\n\u001b[1;32m----\u003e 2\u001b[1;33m                        index_col\u003d\u0027session_id\u0027, parse_dates\u003d[\u0027time1\u0027])\n\u001b[0m\u001b[0;32m      3\u001b[0m test_df \u003d pd.read_csv(\u0027data/test_sessions.csv\u0027,\n\u001b[0;32m      4\u001b[0m                       index_col\u003d\u0027session_id\u0027, parse_dates\u003d[\u0027time1\u0027])\n\u001b[0;32m      5\u001b[0m \u001b[1;33m\u001b[0m\u001b[0m\n",
            "\u001b[1;32m~\\AppData\\Local\\Programs\\Python\\Python37-32\\lib\\site-packages\\pandas\\io\\parsers.py\u001b[0m in \u001b[0;36mparser_f\u001b[1;34m(filepath_or_buffer, sep, delimiter, header, names, index_col, usecols, squeeze, prefix, mangle_dupe_cols, dtype, engine, converters, true_values, false_values, skipinitialspace, skiprows, nrows, na_values, keep_default_na, na_filter, verbose, skip_blank_lines, parse_dates, infer_datetime_format, keep_date_col, date_parser, dayfirst, iterator, chunksize, compression, thousands, decimal, lineterminator, quotechar, quoting, escapechar, comment, encoding, dialect, tupleize_cols, error_bad_lines, warn_bad_lines, skipfooter, doublequote, delim_whitespace, low_memory, memory_map, float_precision)\u001b[0m\n\u001b[0;32m    676\u001b[0m                     skip_blank_lines\u003dskip_blank_lines)\n\u001b[0;32m    677\u001b[0m \u001b[1;33m\u001b[0m\u001b[0m\n\u001b[1;32m--\u003e 678\u001b[1;33m         \u001b[1;32mreturn\u001b[0m \u001b[0m_read\u001b[0m\u001b[1;33m(\u001b[0m\u001b[0mfilepath_or_buffer\u001b[0m\u001b[1;33m,\u001b[0m \u001b[0mkwds\u001b[0m\u001b[1;33m)\u001b[0m\u001b[1;33m\u001b[0m\u001b[0m\n\u001b[0m\u001b[0;32m    679\u001b[0m \u001b[1;33m\u001b[0m\u001b[0m\n\u001b[0;32m    680\u001b[0m     \u001b[0mparser_f\u001b[0m\u001b[1;33m.\u001b[0m\u001b[0m__name__\u001b[0m \u001b[1;33m\u003d\u001b[0m \u001b[0mname\u001b[0m\u001b[1;33m\u001b[0m\u001b[0m\n",
            "\u001b[1;32m~\\AppData\\Local\\Programs\\Python\\Python37-32\\lib\\site-packages\\pandas\\io\\parsers.py\u001b[0m in \u001b[0;36m_read\u001b[1;34m(filepath_or_buffer, kwds)\u001b[0m\n\u001b[0;32m    438\u001b[0m \u001b[1;33m\u001b[0m\u001b[0m\n\u001b[0;32m    439\u001b[0m     \u001b[1;31m# Create the parser.\u001b[0m\u001b[1;33m\u001b[0m\u001b[1;33m\u001b[0m\u001b[0m\n\u001b[1;32m--\u003e 440\u001b[1;33m     \u001b[0mparser\u001b[0m \u001b[1;33m\u003d\u001b[0m \u001b[0mTextFileReader\u001b[0m\u001b[1;33m(\u001b[0m\u001b[0mfilepath_or_buffer\u001b[0m\u001b[1;33m,\u001b[0m \u001b[1;33m**\u001b[0m\u001b[0mkwds\u001b[0m\u001b[1;33m)\u001b[0m\u001b[1;33m\u001b[0m\u001b[0m\n\u001b[0m\u001b[0;32m    441\u001b[0m \u001b[1;33m\u001b[0m\u001b[0m\n\u001b[0;32m    442\u001b[0m     \u001b[1;32mif\u001b[0m \u001b[0mchunksize\u001b[0m \u001b[1;32mor\u001b[0m \u001b[0miterator\u001b[0m\u001b[1;33m:\u001b[0m\u001b[1;33m\u001b[0m\u001b[0m\n",
            "\u001b[1;32m~\\AppData\\Local\\Programs\\Python\\Python37-32\\lib\\site-packages\\pandas\\io\\parsers.py\u001b[0m in \u001b[0;36m__init__\u001b[1;34m(self, f, engine, **kwds)\u001b[0m\n\u001b[0;32m    785\u001b[0m             \u001b[0mself\u001b[0m\u001b[1;33m.\u001b[0m\u001b[0moptions\u001b[0m\u001b[1;33m[\u001b[0m\u001b[1;34m\u0027has_index_names\u0027\u001b[0m\u001b[1;33m]\u001b[0m \u001b[1;33m\u003d\u001b[0m \u001b[0mkwds\u001b[0m\u001b[1;33m[\u001b[0m\u001b[1;34m\u0027has_index_names\u0027\u001b[0m\u001b[1;33m]\u001b[0m\u001b[1;33m\u001b[0m\u001b[0m\n\u001b[0;32m    786\u001b[0m \u001b[1;33m\u001b[0m\u001b[0m\n\u001b[1;32m--\u003e 787\u001b[1;33m         \u001b[0mself\u001b[0m\u001b[1;33m.\u001b[0m\u001b[0m_make_engine\u001b[0m\u001b[1;33m(\u001b[0m\u001b[0mself\u001b[0m\u001b[1;33m.\u001b[0m\u001b[0mengine\u001b[0m\u001b[1;33m)\u001b[0m\u001b[1;33m\u001b[0m\u001b[0m\n\u001b[0m\u001b[0;32m    788\u001b[0m \u001b[1;33m\u001b[0m\u001b[0m\n\u001b[0;32m    789\u001b[0m     \u001b[1;32mdef\u001b[0m \u001b[0mclose\u001b[0m\u001b[1;33m(\u001b[0m\u001b[0mself\u001b[0m\u001b[1;33m)\u001b[0m\u001b[1;33m:\u001b[0m\u001b[1;33m\u001b[0m\u001b[0m\n",
            "\u001b[1;32m~\\AppData\\Local\\Programs\\Python\\Python37-32\\lib\\site-packages\\pandas\\io\\parsers.py\u001b[0m in \u001b[0;36m_make_engine\u001b[1;34m(self, engine)\u001b[0m\n\u001b[0;32m   1012\u001b[0m     \u001b[1;32mdef\u001b[0m \u001b[0m_make_engine\u001b[0m\u001b[1;33m(\u001b[0m\u001b[0mself\u001b[0m\u001b[1;33m,\u001b[0m \u001b[0mengine\u001b[0m\u001b[1;33m\u003d\u001b[0m\u001b[1;34m\u0027c\u0027\u001b[0m\u001b[1;33m)\u001b[0m\u001b[1;33m:\u001b[0m\u001b[1;33m\u001b[0m\u001b[0m\n\u001b[0;32m   1013\u001b[0m         \u001b[1;32mif\u001b[0m \u001b[0mengine\u001b[0m \u001b[1;33m\u003d\u003d\u001b[0m \u001b[1;34m\u0027c\u0027\u001b[0m\u001b[1;33m:\u001b[0m\u001b[1;33m\u001b[0m\u001b[0m\n\u001b[1;32m-\u003e 1014\u001b[1;33m             \u001b[0mself\u001b[0m\u001b[1;33m.\u001b[0m\u001b[0m_engine\u001b[0m \u001b[1;33m\u003d\u001b[0m \u001b[0mCParserWrapper\u001b[0m\u001b[1;33m(\u001b[0m\u001b[0mself\u001b[0m\u001b[1;33m.\u001b[0m\u001b[0mf\u001b[0m\u001b[1;33m,\u001b[0m \u001b[1;33m**\u001b[0m\u001b[0mself\u001b[0m\u001b[1;33m.\u001b[0m\u001b[0moptions\u001b[0m\u001b[1;33m)\u001b[0m\u001b[1;33m\u001b[0m\u001b[0m\n\u001b[0m\u001b[0;32m   1015\u001b[0m         \u001b[1;32melse\u001b[0m\u001b[1;33m:\u001b[0m\u001b[1;33m\u001b[0m\u001b[0m\n\u001b[0;32m   1016\u001b[0m             \u001b[1;32mif\u001b[0m \u001b[0mengine\u001b[0m \u001b[1;33m\u003d\u003d\u001b[0m \u001b[1;34m\u0027python\u0027\u001b[0m\u001b[1;33m:\u001b[0m\u001b[1;33m\u001b[0m\u001b[0m\n",
            "\u001b[1;32m~\\AppData\\Local\\Programs\\Python\\Python37-32\\lib\\site-packages\\pandas\\io\\parsers.py\u001b[0m in \u001b[0;36m__init__\u001b[1;34m(self, src, **kwds)\u001b[0m\n\u001b[0;32m   1706\u001b[0m         \u001b[0mkwds\u001b[0m\u001b[1;33m[\u001b[0m\u001b[1;34m\u0027usecols\u0027\u001b[0m\u001b[1;33m]\u001b[0m \u001b[1;33m\u003d\u001b[0m \u001b[0mself\u001b[0m\u001b[1;33m.\u001b[0m\u001b[0musecols\u001b[0m\u001b[1;33m\u001b[0m\u001b[0m\n\u001b[0;32m   1707\u001b[0m \u001b[1;33m\u001b[0m\u001b[0m\n\u001b[1;32m-\u003e 1708\u001b[1;33m         \u001b[0mself\u001b[0m\u001b[1;33m.\u001b[0m\u001b[0m_reader\u001b[0m \u001b[1;33m\u003d\u001b[0m \u001b[0mparsers\u001b[0m\u001b[1;33m.\u001b[0m\u001b[0mTextReader\u001b[0m\u001b[1;33m(\u001b[0m\u001b[0msrc\u001b[0m\u001b[1;33m,\u001b[0m \u001b[1;33m**\u001b[0m\u001b[0mkwds\u001b[0m\u001b[1;33m)\u001b[0m\u001b[1;33m\u001b[0m\u001b[0m\n\u001b[0m\u001b[0;32m   1709\u001b[0m \u001b[1;33m\u001b[0m\u001b[0m\n\u001b[0;32m   1710\u001b[0m         \u001b[0mpassed_names\u001b[0m \u001b[1;33m\u003d\u001b[0m \u001b[0mself\u001b[0m\u001b[1;33m.\u001b[0m\u001b[0mnames\u001b[0m \u001b[1;32mis\u001b[0m \u001b[1;32mNone\u001b[0m\u001b[1;33m\u001b[0m\u001b[0m\n",
            "\u001b[1;32mpandas\\_libs\\parsers.pyx\u001b[0m in \u001b[0;36mpandas._libs.parsers.TextReader.__cinit__\u001b[1;34m()\u001b[0m\n",
            "\u001b[1;32mpandas\\_libs\\parsers.pyx\u001b[0m in \u001b[0;36mpandas._libs.parsers.TextReader._setup_parser_source\u001b[1;34m()\u001b[0m\n",
            "\u001b[1;31mFileNotFoundError\u001b[0m: File b\u0027data/train_sessions.csv\u0027 does not exist"
          ],
          "ename": "FileNotFoundError",
          "evalue": "File b\u0027data/train_sessions.csv\u0027 does not exist",
          "output_type": "error"
        }
      ],
      "source": [
        "train_df \u003d pd.read_csv(\u0027data/train_sessions.csv\u0027,\n",
        "                       index_col\u003d\u0027session_id\u0027, parse_dates\u003d[\u0027time1\u0027])\n",
        "test_df \u003d pd.read_csv(\u0027data/test_sessions.csv\u0027,\n",
        "                      index_col\u003d\u0027session_id\u0027, parse_dates\u003d[\u0027time1\u0027])\n",
        "\n",
        "# Sort the data by time\n",
        "train_df \u003d train_df.sort_values(by\u003d\u0027time1\u0027)\n",
        "\n",
        "# Look at the first rows of the training set\n",
        "train_df.head()"
      ]
    },
    {
      "cell_type": "markdown",
      "metadata": {
        "_cell_guid": "751b30ef-4415-4a47-b7da-384f0743e5d8",
        "_uuid": "c33465d7de6d53f48a4d589e5faee442e57de766",
        "pycharm": {}
      },
      "source": [
        "**Transform data into format which can be fed into `CountVectorizer`**"
      ]
    },
    {
      "cell_type": "code",
      "execution_count": 5,
      "metadata": {
        "_cell_guid": "4f7668c3-0cfe-43cb-9fc5-c1b6e859c1bd",
        "_uuid": "48dfa730dd5292c50e981a7d0b864de5b3d55064",
        "pycharm": {}
      },
      "outputs": [],
      "source": [
        "sites \u003d [\u0027site%s\u0027 % i for i in range(1, 11)]\n",
        "train_df[sites].fillna(0).astype(\u0027int\u0027).to_csv(\u0027train_sessions_text.txt\u0027, \n",
        "                                               sep\u003d\u0027 \u0027, \n",
        "                       index\u003dNone, header\u003dNone)\n",
        "test_df[sites].fillna(0).astype(\u0027int\u0027).to_csv(\u0027test_sessions_text.txt\u0027, \n",
        "                                              sep\u003d\u0027 \u0027, \n",
        "                       index\u003dNone, header\u003dNone)"
      ]
    },
    {
      "cell_type": "code",
      "execution_count": 6,
      "metadata": {
        "_cell_guid": "644cb326-b3ee-4cdf-bfc6-9b85514d44d0",
        "_uuid": "5a62e402a917618813559c77bec41b05a6bb532b",
        "pycharm": {}
      },
      "outputs": [
        {
          "name": "stderr",
          "output_type": "stream",
          "text": [
            "\"head\" ­Ґ пў«пҐвбп ў­гваҐ­­Ґ© Ё«Ё ў­Ґи­Ґ©\n",
            "Є®¬ ­¤®©, ЁбЇ®«­пҐ¬®© Їа®Ја ¬¬®© Ё«Ё Ї ЄҐв­л¬ д ©«®¬.\n"
          ]
        }
      ],
      "source": [
        "!head -5 train_sessions_text.txt"
      ]
    },
    {
      "cell_type": "markdown",
      "metadata": {
        "_cell_guid": "fc4c15fa-02cb-416c-b274-023431b6e823",
        "_uuid": "c7bc62ef42363f0cad933383c84f92180c2bdad7",
        "pycharm": {}
      },
      "source": [
        "**Fit `CountVectorizer` and trasfrom data with it.**"
      ]
    },
    {
      "cell_type": "code",
      "execution_count": 7,
      "metadata": {
        "_cell_guid": "5c4b8b45-378d-4b30-b2a6-a38cf229ee62",
        "_uuid": "25e14c5d3e5e4f6319cae5d3e00e24e2d5eaf314",
        "pycharm": {}
      },
      "outputs": [
        {
          "name": "stdout",
          "output_type": "stream",
          "text": [
            "Wall time: 11.6 s\n"
          ]
        }
      ],
      "source": [
        "%%time\n",
        "cv \u003d CountVectorizer(ngram_range\u003d(1, 3), max_features\u003d50000)\n",
        "with open(\u0027train_sessions_text.txt\u0027) as inp_train_file:\n",
        "    X_train \u003d cv.fit_transform(inp_train_file)\n",
        "with open(\u0027test_sessions_text.txt\u0027) as inp_test_file:\n",
        "    X_test \u003d cv.transform(inp_test_file)\n",
        "X_train.shape, X_test.shape"
      ]
    },
    {
      "cell_type": "markdown",
      "metadata": {
        "_cell_guid": "05ab3add-fa37-430a-af2c-8b504417564f",
        "_uuid": "96853d529b7fc67f3a0975e5260c10defab591c6",
        "pycharm": {}
      },
      "source": [
        "**Save train targets into a separate vector.**"
      ]
    },
    {
      "cell_type": "code",
      "execution_count": 8,
      "metadata": {
        "_cell_guid": "59c45cc6-ecdb-42cb-a7a6-9bce457c11d2",
        "_uuid": "e5a0439979e1b54b63362afaeecb03bdb32973a5",
        "pycharm": {}
      },
      "outputs": [],
      "source": [
        "y_train \u003d train_df[\u0027target\u0027].astype(\u0027int\u0027).values"
      ]
    },
    {
      "cell_type": "markdown",
      "metadata": {
        "_cell_guid": "3cf467b2-5d7f-446e-b45f-15963a1989e4",
        "_uuid": "a9e2d874aeb53cb0584ebb71963575b7fd0cda2e",
        "pycharm": {}
      },
      "source": [
        "**We\u0027ll be performing time series cross-validation, see `sklearn` [TimeSeriesSplit](http://scikit-learn.org/stable/modules/generated/sklearn.model_selection.TimeSeriesSplit.html) and [this dicussion](https://stats.stackexchange.com/questions/14099/using-k-fold-cross-validation-for-time-series-model-selection) on StackOverflow.**"
      ]
    },
    {
      "cell_type": "code",
      "execution_count": 9,
      "metadata": {
        "_cell_guid": "1a91baf3-eba0-4492-847d-16ad167189b0",
        "_uuid": "d7b70a610910e0b71e792761b6b1048c92451f59",
        "pycharm": {}
      },
      "outputs": [],
      "source": [
        "time_split \u003d TimeSeriesSplit(n_splits\u003d10)"
      ]
    },
    {
      "cell_type": "markdown",
      "metadata": {
        "_cell_guid": "01c2d632-f7ad-4259-82be-d91d74f8704e",
        "_uuid": "6b82d6086e755db0677553c6876d771b94cb4651",
        "pycharm": {}
      },
      "source": [
        "\u003cimg src\u003d\"https://habrastorage.org/webt/8i/5k/vx/8i5kvxrehatyvf-l3glz_-ymhtw.png\" /\u003e"
      ]
    },
    {
      "cell_type": "code",
      "execution_count": 10,
      "metadata": {
        "_cell_guid": "64585091-3d43-46af-967c-8ff125f3220e",
        "_uuid": "568d144c5eb03da5aa80bed52bf28b7124cd850f",
        "pycharm": {}
      },
      "outputs": [
        {
          "data": {
            "text/plain": [
              "[((23051,), (23051,)),\n",
              " ((46102,), (23051,)),\n",
              " ((69153,), (23051,)),\n",
              " ((92204,), (23051,)),\n",
              " ((115255,), (23051,)),\n",
              " ((138306,), (23051,)),\n",
              " ((161357,), (23051,)),\n",
              " ((184408,), (23051,)),\n",
              " ((207459,), (23051,)),\n",
              " ((230510,), (23051,))]"
            ]
          },
          "execution_count": 10,
          "metadata": {},
          "output_type": "execute_result"
        }
      ],
      "source": [
        "[(el[0].shape, el[1].shape) for el in time_split.split(X_train)]"
      ]
    },
    {
      "cell_type": "markdown",
      "metadata": {
        "_cell_guid": "1bd79174-3310-49d7-a4bc-49ac259a536f",
        "_uuid": "ad06c65f030688745f3532a69fabe2a1ea3dca24",
        "pycharm": {}
      },
      "source": [
        "**Perform time series cross-validation with logistic regression.**"
      ]
    },
    {
      "cell_type": "code",
      "execution_count": 11,
      "metadata": {
        "_cell_guid": "f551bcad-4033-4676-b973-b1ad63445758",
        "_uuid": "ef0d5313d605117d52eaf58068938f4f3f7637d0",
        "pycharm": {}
      },
      "outputs": [],
      "source": [
        "logit \u003d LogisticRegression(C\u003d1, random_state\u003d17, solver\u003d\u0027liblinear\u0027)"
      ]
    },
    {
      "cell_type": "code",
      "execution_count": 12,
      "metadata": {
        "_cell_guid": "df8ac4aa-a7ab-4c77-a1a9-c7395b3fb94e",
        "_uuid": "970b8d837b6c0710b5a68b3c1e074609c4af83c0",
        "pycharm": {}
      },
      "outputs": [
        {
          "name": "stdout",
          "output_type": "stream",
          "text": [
            "Wall time: 53.6 s\n"
          ]
        }
      ],
      "source": [
        "%%time\n",
        "\n",
        "cv_scores \u003d cross_val_score(logit, X_train, y_train, cv\u003dtime_split, \n",
        "                            scoring\u003d\u0027roc_auc\u0027, n_jobs\u003d1) # hangs with n_jobs \u003e 1, and locally this runs much faster"
      ]
    },
    {
      "cell_type": "code",
      "execution_count": 13,
      "metadata": {
        "_cell_guid": "e42c7e3c-81d0-4ef9-9044-9efe75203c8a",
        "_uuid": "972260b63fca42a2299ed81ecc79424c72daede9",
        "pycharm": {}
      },
      "outputs": [
        {
          "data": {
            "text/plain": [
              "(array([0.83141992, 0.64669477, 0.87991917, 0.96315292, 0.84221701,\n",
              "        0.87840872, 0.94475732, 0.85321644, 0.92987908, 0.90752868]),\n",
              " 0.8677194034838163)"
            ]
          },
          "execution_count": 13,
          "metadata": {},
          "output_type": "execute_result"
        }
      ],
      "source": [
        "cv_scores, cv_scores.mean()"
      ]
    },
    {
      "cell_type": "markdown",
      "metadata": {
        "_cell_guid": "06727411-34f3-470d-a4b2-d34418596b25",
        "_uuid": "21b7f1a146a68ca78265472e3b06f36b215a5ed0",
        "pycharm": {}
      },
      "source": [
        "**Train logistic regression with all training data, make predictions for test set and form a submission file.**"
      ]
    },
    {
      "cell_type": "code",
      "execution_count": 14,
      "metadata": {
        "_cell_guid": "9b90f9c0-53e0-42ec-8c5c-6f9929e92aa7",
        "_uuid": "dadf87048162d3d3ee189060dd60be2c0f2e77ec",
        "pycharm": {}
      },
      "outputs": [
        {
          "data": {
            "text/plain": [
              "LogisticRegression(C\u003d1, class_weight\u003dNone, dual\u003dFalse, fit_intercept\u003dTrue,\n",
              "          intercept_scaling\u003d1, max_iter\u003d100, multi_class\u003d\u0027ovr\u0027, n_jobs\u003d1,\n",
              "          penalty\u003d\u0027l2\u0027, random_state\u003d17, solver\u003d\u0027liblinear\u0027, tol\u003d0.0001,\n",
              "          verbose\u003d0, warm_start\u003dFalse)"
            ]
          },
          "execution_count": 14,
          "metadata": {},
          "output_type": "execute_result"
        }
      ],
      "source": [
        "logit.fit(X_train, y_train)"
      ]
    },
    {
      "cell_type": "code",
      "execution_count": 15,
      "metadata": {
        "_cell_guid": "be494a66-0162-4436-bc85-d58f4ab32115",
        "_uuid": "76921322d696636415ac1af7f6d7cc9c9214cc1d",
        "pycharm": {}
      },
      "outputs": [],
      "source": [
        "logit_test_pred \u003d logit.predict_proba(X_test)[:, 1]\n",
        "write_to_submission_file(logit_test_pred, \u0027subm1.csv\u0027) # 0.91288"
      ]
    },
    {
      "cell_type": "markdown",
      "metadata": {
        "_cell_guid": "c7e8b34f-622a-43c2-a96e-6d8554462909",
        "_uuid": "c39d7637b347303a7d8b4690209df466612bc091",
        "pycharm": {}
      },
      "source": [
        "**Now we\u0027ll add some time features: indicators of morning, day, evening and night.**"
      ]
    },
    {
      "cell_type": "code",
      "execution_count": null,
      "metadata": {
        "_cell_guid": "715d41f3-c9e3-4d68-a88c-f891d6778e34",
        "_uuid": "655cd4e2b4c02de492e27e32497a167cd367b42a",
        "pycharm": {}
      },
      "outputs": [],
      "source": [
        "def add_time_features(df, X_sparse):\n",
        "    hour \u003d df[\u0027time1\u0027].apply(lambda ts: ts.hour)\n",
        "    morning \u003d ((hour \u003e\u003d 7) \u0026 (hour \u003c\u003d 11)).astype(\u0027int\u0027)\n",
        "    day \u003d ((hour \u003e\u003d 12) \u0026 (hour \u003c\u003d 18)).astype(\u0027int\u0027)\n",
        "    evening \u003d ((hour \u003e\u003d 19) \u0026 (hour \u003c\u003d 23)).astype(\u0027int\u0027)\n",
        "    night \u003d ((hour \u003e\u003d 0) \u0026 (hour \u003c\u003d 6)).astype(\u0027int\u0027)\n",
        "    X \u003d hstack([X_sparse, morning.values.reshape(-1, 1), \n",
        "                day.values.reshape(-1, 1), evening.values.reshape(-1, 1), \n",
        "                night.values.reshape(-1, 1)])\n",
        "    return X"
      ]
    },
    {
      "cell_type": "code",
      "execution_count": null,
      "metadata": {
        "_cell_guid": "d8fcb47c-da2e-4e15-9709-5aa229921218",
        "_uuid": "8a83601a9b588f2355f177ce024c02afc525f2d4",
        "pycharm": {}
      },
      "outputs": [
        {
          "name": "stdout",
          "output_type": "stream",
          "text": [
            "Wall time: 2.27 s\n"
          ]
        }
      ],
      "source": [
        "%%time\n",
        "X_train_new \u003d add_time_features(train_df.fillna(0), X_train)\n",
        "X_test_new \u003d add_time_features(test_df.fillna(0), X_test)"
      ]
    },
    {
      "cell_type": "code",
      "execution_count": null,
      "metadata": {
        "_cell_guid": "d9fdcac1-1d8c-4dfa-a66a-4959b2721220",
        "_uuid": "e0c45ca5734de9a6c1c77fdbaaaf8c171c8a98e5",
        "pycharm": {}
      },
      "outputs": [
        {
          "data": {
            "text/plain": [
              "((253561, 50004), (82797, 50004))"
            ]
          },
          "execution_count": 18,
          "metadata": {},
          "output_type": "execute_result"
        }
      ],
      "source": [
        "X_train_new.shape, X_test_new.shape"
      ]
    },
    {
      "cell_type": "markdown",
      "metadata": {
        "_cell_guid": "fd672328-d191-4571-9261-6dbf47327662",
        "_uuid": "47aef7e554ccd06c681f21d0b545b2e71185e892",
        "pycharm": {}
      },
      "source": [
        "**Performing time series cross-validation, we see an improvement in ROC AUC.**"
      ]
    },
    {
      "cell_type": "code",
      "execution_count": null,
      "metadata": {
        "_cell_guid": "26a6c177-df90-4223-9932-88c2b50d40a6",
        "_uuid": "03a563edcf9d3608555043ca37703fa042b1d374",
        "pycharm": {}
      },
      "outputs": [
        {
          "name": "stdout",
          "output_type": "stream",
          "text": [
            "Wall time: 51.8 s\n"
          ]
        }
      ],
      "source": [
        "%%time\n",
        "cv_scores \u003d cross_val_score(logit, X_train_new, y_train, cv\u003dtime_split, \n",
        "                            scoring\u003d\u0027roc_auc\u0027, n_jobs\u003d1) # hangs with n_jobs \u003e 1, and locally this runs much faster"
      ]
    },
    {
      "cell_type": "code",
      "execution_count": null,
      "metadata": {
        "_cell_guid": "b5777028-2d0f-4dd9-986d-429e064e583d",
        "_uuid": "29d4570115bf0ab4ed186b6bef825f026e2ab806",
        "pycharm": {}
      },
      "outputs": [
        {
          "data": {
            "text/plain": [
              "(array([0.87652264, 0.75122979, 0.93062182, 0.97864617, 0.90399606,\n",
              "        0.93831379, 0.96248761, 0.92731291, 0.94885607, 0.94043603]),\n",
              " 0.9158422899711814)"
            ]
          },
          "execution_count": 20,
          "metadata": {},
          "output_type": "execute_result"
        }
      ],
      "source": [
        "cv_scores, cv_scores.mean()"
      ]
    },
    {
      "cell_type": "markdown",
      "metadata": {
        "_cell_guid": "a80ed291-6875-4744-9655-2a10325f1b87",
        "_uuid": "a404a026f0ca758b9125c3e618ef274296f0201b",
        "pycharm": {}
      },
      "source": [
        "**Making a new submission, we notice a leaderboard score improvement as well (0.91288 -\u003e  0.93843). Correlated CV and LB improvements is a good justifications for added features being useful and CV scheme being correct.**"
      ]
    },
    {
      "cell_type": "code",
      "execution_count": null,
      "metadata": {
        "_cell_guid": "93046ebd-136b-4d8a-8e5e-0916698a585c",
        "_uuid": "18b9946b223b657e1dad9b74a1b440a602040a0f",
        "pycharm": {}
      },
      "outputs": [
        {
          "data": {
            "text/plain": [
              "LogisticRegression(C\u003d1, class_weight\u003dNone, dual\u003dFalse, fit_intercept\u003dTrue,\n",
              "          intercept_scaling\u003d1, max_iter\u003d100, multi_class\u003d\u0027ovr\u0027, n_jobs\u003d1,\n",
              "          penalty\u003d\u0027l2\u0027, random_state\u003d17, solver\u003d\u0027liblinear\u0027, tol\u003d0.0001,\n",
              "          verbose\u003d0, warm_start\u003dFalse)"
            ]
          },
          "execution_count": 21,
          "metadata": {},
          "output_type": "execute_result"
        }
      ],
      "source": [
        "logit.fit(X_train_new, y_train)"
      ]
    },
    {
      "cell_type": "code",
      "execution_count": null,
      "metadata": {
        "_cell_guid": "bf1507b7-4c43-4744-aea1-75e08aad2c94",
        "_uuid": "dfe6545afb7249a673751a72ec2f83d303170ae4",
        "pycharm": {}
      },
      "outputs": [],
      "source": [
        "logit_test_pred2 \u003d logit.predict_proba(X_test_new)[:, 1]\n",
        "write_to_submission_file(logit_test_pred2, \u0027subm2.csv\u0027) # 0.93843"
      ]
    },
    {
      "cell_type": "markdown",
      "metadata": {
        "_cell_guid": "a31636b5-b091-404a-b931-ccb27f16155c",
        "_uuid": "8eb5b865b8ed63de0e6d3be9afbf2f926dd6aa0d",
        "pycharm": {}
      },
      "source": [
        "**Now we tune regularization parameter `C`.**"
      ]
    },
    {
      "cell_type": "code",
      "execution_count": null,
      "metadata": {
        "_cell_guid": "21c5cbda-bd32-423b-8b33-8bd06a020709",
        "_uuid": "703759cbdc1feea447fb42799190394a47c5c52b",
        "pycharm": {}
      },
      "outputs": [],
      "source": [
        "c_values \u003d np.logspace(-2, 2, 10)\n",
        "\n",
        "logit_grid_searcher \u003d GridSearchCV(estimator\u003dlogit, param_grid\u003d{\u0027C\u0027: c_values},\n",
        "                                  scoring\u003d\u0027roc_auc\u0027, n_jobs\u003d1, cv\u003dtime_split, verbose\u003d1)"
      ]
    },
    {
      "cell_type": "code",
      "execution_count": null,
      "metadata": {
        "_cell_guid": "fcc3a01d-68e5-471e-90a3-c234e77bd5a5",
        "_uuid": "4db046159d3772daf9332edf463836ec621cd3b6",
        "pycharm": {}
      },
      "outputs": [
        {
          "name": "stdout",
          "output_type": "stream",
          "text": [
            "Fitting 10 folds for each of 10 candidates, totalling 100 fits\n"
          ]
        }
      ],
      "source": [
        "%%time\n",
        "logit_grid_searcher.fit(X_train_new, y_train) # WTF? Locally, it\u0027s 3min 30s"
      ]
    },
    {
      "cell_type": "code",
      "execution_count": null,
      "metadata": {
        "_cell_guid": "2169876c-84e3-4819-8823-d5f7640a2afc",
        "_uuid": "1297778f5db0180674f2bd717a794968c08a33a6",
        "pycharm": {}
      },
      "outputs": [],
      "source": [
        "logit_grid_searcher.best_score_, logit_grid_searcher.best_params_"
      ]
    },
    {
      "cell_type": "code",
      "execution_count": null,
      "metadata": {
        "_cell_guid": "6bb550b1-9af9-45e3-90f1-e8230d4319d9",
        "_uuid": "c9a6f9c949140ec0ba8d7fd4b088eb07ac58f563",
        "pycharm": {}
      },
      "outputs": [],
      "source": [
        "logit_test_pred3 \u003d logit_grid_searcher.predict_proba(X_test_new)[:, 1]\n",
        "write_to_submission_file(logit_test_pred3, \u0027subm3.csv\u0027) # 0.94242"
      ]
    },
    {
      "cell_type": "markdown",
      "metadata": {
        "_cell_guid": "12f51768-8240-4fa0-855d-537d42e5b9f5",
        "_uuid": "2d8377f93751a084830a14d8048b91f3cca0b537",
        "pycharm": {}
      },
      "source": [
        "**Again, we notice an improvement in both cross-validation score and LB score. Now taht you\u0027ve settled a correct cross-validation scheme, go on with feature engineering! Good luck!**"
      ]
    }
  ],
  "metadata": {
    "kernelspec": {
      "display_name": "Python 3",
      "language": "python",
      "name": "python3"
    },
    "language_info": {
      "codemirror_mode": {
        "name": "ipython",
        "version": 3
      },
      "file_extension": ".py",
      "mimetype": "text/x-python",
      "name": "python",
      "nbconvert_exporter": "python",
      "pygments_lexer": "ipython3",
      "version": "3.7.0"
    }
  },
  "nbformat": 4,
  "nbformat_minor": 1
}